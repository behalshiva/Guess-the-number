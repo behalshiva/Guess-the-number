{
 "cells": [
  {
   "cell_type": "code",
   "execution_count": null,
   "metadata": {},
   "outputs": [],
   "source": [
    "import random\n",
    "game=' '\n",
    "while game == ' ':\n",
    "    try:\n",
    "        game=int(input(\"pick the number\"))\n",
    "    except:\n",
    "        print(\"enter number\")\n",
    "for games in range(0,game):\n",
    "    pick=random.randint(1,25)\n",
    "    guess=None\n",
    "    attempt=0\n",
    "    while pick !=guess:\n",
    "        try:\n",
    "            guess = int(input(\"Pick a number\"))\n",
    "        except:\n",
    "            print (\"enter number\")\n",
    "        if guess != pick:\n",
    "            attempt+=1\n",
    "            if guess>pick:\n",
    "                print(\"high\")\n",
    "            else :\n",
    "                print(\"low\")\n",
    "        else:\n",
    "            print(\"Took %s attemts to guess\",attempt)\n",
    "            \n",
    "    \n",
    "    \n",
    "   "
   ]
  },
  {
   "cell_type": "code",
   "execution_count": null,
   "metadata": {},
   "outputs": [],
   "source": []
  },
  {
   "cell_type": "code",
   "execution_count": null,
   "metadata": {},
   "outputs": [],
   "source": []
  }
 ],
 "metadata": {
  "kernelspec": {
   "display_name": "Python 3",
   "language": "python",
   "name": "python3"
  },
  "language_info": {
   "codemirror_mode": {
    "name": "ipython",
    "version": 3
   },
   "file_extension": ".py",
   "mimetype": "text/x-python",
   "name": "python",
   "nbconvert_exporter": "python",
   "pygments_lexer": "ipython3",
   "version": "3.7.4"
  }
 },
 "nbformat": 4,
 "nbformat_minor": 2
}
